{
 "cells": [
  {
   "cell_type": "code",
   "execution_count": 1,
   "id": "20d8fbdf",
   "metadata": {},
   "outputs": [
    {
     "name": "stdout",
     "output_type": "stream",
     "text": [
      "1958 : tour 1 initialisé\n",
      "1962 : tour 1 initialisé\n",
      "1967 : tour 1 initialisé\n",
      "1968 : tour 1 initialisé\n",
      "1973 : tour 1 initialisé\n",
      "1978 : tour 1 initialisé\n",
      "1981 : tour 1 initialisé\n",
      "1988 : tour 1 initialisé\n",
      "1993 : tour 1 initialisé\n",
      "1997 : tour 1 initialisé\n",
      "2002 : tour 1 initialisé\n",
      "2007 : tour 1 initialisé\n",
      "2012 : tour 1 initialisé\n",
      "1958 : tour 2 initialisé\n",
      "1962 : tour 2 initialisé\n",
      "1967 : tour 2 initialisé\n",
      "1968 : tour 2 initialisé\n",
      "1973 : tour 2 initialisé\n",
      "1978 : tour 2 initialisé\n",
      "1981 : tour 2 initialisé\n",
      "1988 : tour 2 initialisé\n",
      "1993 : tour 2 initialisé\n",
      "1997 : tour 2 initialisé\n",
      "2002 : tour 2 initialisé\n",
      "2007 : tour 2 initialisé\n",
      "2012 : tour 2 initialisé\n"
     ]
    }
   ],
   "source": [
    "import xlrd\n",
    "import pandas as pd\n",
    "import matplotlib.pyplot as plt\n",
    "import numpy as np\n",
    "year_echantillon = [1958,1962,1967,1968,1973,1978,1981,1988,1993,1997,2002,2007,2012]\n",
    "\n",
    "def set_data(tour):\n",
    "    tab_data = []\n",
    "    tab_elus_premier_tour = []\n",
    "    \n",
    "\n",
    "    #Transformer le taux de participation en un float utilisable\n",
    "\n",
    "    def formatage_participation(dat):\n",
    "        dat[\"Taux de participation (%)\"] = dat[\"Taux de participation (%)\"].str.replace(',','.')\n",
    "        dat[\"Taux de participation (%)\"] = dat[\"Taux de participation (%)\"].str.slice(start = 0,stop = -1)\n",
    "        dat[\"Taux de participation (%)\"] = pd.to_numeric(dat[\"Taux de participation (%)\"],downcast = 'signed')\n",
    "\n",
    "    #En enregistrant un fichier (par erreur souvent) en .csv, on crée des problèmes qui peuvent être résolus ainsi\n",
    "\n",
    "    def solve_problem_enregcsv(dat):\n",
    "        def presolve(dat):    \n",
    "            labels = list(dat.columns)\n",
    "            dat = dat[\"Code département\"].str.split(pat = ',',expand = True)\n",
    "            dat[7] = dat[7].str.cat(dat[8], sep = ',')\n",
    "            dat = dat.drop(8, axis = 1)\n",
    "            dat.columns = labels\n",
    "            return dat.replace('',0).fillna(0)\n",
    "        dat = presolve(dat)\n",
    "        for k in range(1,27):\n",
    "            dat[str(k) + \" voix\"] = dat[str(k) + \" voix\"].astype(int)\n",
    "        return dat\n",
    "\n",
    "    #Dans certains fichiers, on observe plusieurs étiquettes de liste correspondant à la même nuance. Ici, on les fusionne.\n",
    "    #Bien que cette hypothèse ne reflète pas les résultats finaux dans certains cas, ces doublons restent mineurs.\n",
    "    #Cela revient à faire l'hypothèse d'unité de candidat par nuance.\n",
    "    def merge_doublons_nuances(dat):\n",
    "        labels = data.columns.values.tolist()\n",
    "        todrop_or_nottodrop = False\n",
    "        labels_todrop = []\n",
    "        for k in range(len(labels) - 1):\n",
    "            if labels[k] == labels[k+1] :\n",
    "                todrop_or_nottodrop = True\n",
    "                data[labels[k]] = data[labels[k]].sum(axis = 1)\n",
    "                labels_todrop.append(k+1)\n",
    "        for x in labels_todrop :\n",
    "            labels[x] = \"to drop\"\n",
    "        if todrop_or_nottodrop :\n",
    "            dat.columns = labels\n",
    "            return dat.drop([\"to drop\"], axis = 1)\n",
    "        return dat\n",
    "            \n",
    "        \n",
    "    for year in year_echantillon :\n",
    "        data = pd.DataFrame(pd.read_csv(\"DATA_formatee\\cdsp_legi\"+str(year)+\"t\"+str(tour)+\"_circ.csv\"))\n",
    "\n",
    "        #Type de données n°1\n",
    "        if year < 1981 :\n",
    "            if tour == 2 : \n",
    "                data = data.drop(['élu premier tour'],axis = 1)\n",
    "            nuances = data.iloc[0].tolist()\n",
    "            data = data.dropna()\n",
    "            labels = data.columns.values.tolist()\n",
    "            for k in range(len(labels)) :\n",
    "                col = labels[k]\n",
    "                if col not in ['Code département','département'] :\n",
    "                    data[col] = data[col].astype(int)\n",
    "                    if col not in ['circonscription','Inscrits','Votants','Exprimés','Blancs et nuls'] :\n",
    "                        labels[k] = nuances[k]\n",
    "            data.columns = labels\n",
    "            data.insert(7,\"Taux de participation (%)\",100*data[\"Votants\"] / data[\"Inscrits\"])\n",
    "            data = merge_doublons_nuances(data)\n",
    "        \n",
    "        #Type de données n°2    \n",
    "        elif year != 1981 :\n",
    "            labels = data.columns.values.tolist()\n",
    "            u = labels[-1]\n",
    "            while u[:2] == \"Un\" :\n",
    "                labels.pop()\n",
    "                data = data.drop([u],axis = 1)\n",
    "                u = labels[-1]\n",
    "            nb_candidats = int(u[:2])\n",
    "            if year == 1993 : \n",
    "                data.insert(6,\"Blancs et nuls\",data[\"Votants\"] - data[\"Exprimés\"])\n",
    "            data = data.fillna(0)\n",
    "            for k in range(1,nb_candidats):\n",
    "                data[str(k) + \" voix\"] = data[str(k) + \" voix\"].astype(int)\n",
    "            formatage_participation(data)\n",
    "            for col  in ['circonscription','Inscrits','Votants','Exprimés','Blancs et nuls'] :\n",
    "                data[col] = data[col].astype(int)\n",
    "            \n",
    "        #Manque en 1981 la colonne de blancs et nuls    \n",
    "        else : \n",
    "            if tour == 1 :\n",
    "                data.insert(6,\"Blancs et nuls\",data[\"Votants\"] - data[\"Exprimés\"])\n",
    "            data.insert(7,\"Taux de participation (%)\",100*data[\"Votants\"] / data[\"Inscrits\"])\n",
    "\n",
    "\n",
    "        tab_data.append(data)\n",
    "        print(str(year) + \" : tour \" + str(tour) + \" initialisé\")\n",
    "        \n",
    "    return tab_data    \n",
    "\n",
    "data_t1 = set_data(1)\n",
    "data_t2 = set_data(2)\n",
    "\n",
    "data_global = [data_t1,data_t2]"
   ]
  },
  {
   "cell_type": "code",
   "execution_count": 2,
   "id": "f3d699e1",
   "metadata": {},
   "outputs": [],
   "source": [
    "def get_data(year,tour):\n",
    "    if year not in year_echantillon : return \"Pas d'élection sur cette année\"\n",
    "    else : return data_global[tour-1][year_echantillon.index(year)]"
   ]
  },
  {
   "cell_type": "code",
   "execution_count": 3,
   "id": "d2c32bd1",
   "metadata": {
    "scrolled": true
   },
   "outputs": [],
   "source": [
    "#Renvoie les résultats pour un tableur, du département et de sa circonscription indiqués\n",
    "\n",
    "def get_line(data,num_dep,circo):\n",
    "    \n",
    "    if num_dep == \"2A\" :\n",
    "        return data.loc[(data[\"département\"] == 'CORSE-DU-SUD') & (data[\"circonscription\"] == circo)]\n",
    "    if num_dep == \"2B\" :\n",
    "        return data.loc[(data[\"département\"] == 'HAUTE-CORSE') & (data[\"circonscription\"] == circo)]\n",
    "    \n",
    "    return data.loc[(pd.to_numeric(data[\"Code département\"],errors = 'coerce') == num_dep) & (data[\"circonscription\"] == circo)]\n",
    " "
   ]
  },
  {
   "cell_type": "code",
   "execution_count": 4,
   "id": "9e84c243",
   "metadata": {},
   "outputs": [],
   "source": [
    "#Renvoie le score d'un parti donné, dans une année donnée, dans un département/circonscription donné/ée\n",
    "\n",
    "def get_res(data,year,num_dep,circo,parti):\n",
    "    ligne = get_line(data,num_dep,circo)\n",
    "    \n",
    "    if year < 1981 :\n",
    "        colonnes_parti = [col for col in data.columns if parti in col]\n",
    "        if (colonnes_parti != []) and (int(ligne[parti].values[0]) != 0) :\n",
    "            return ligne[[\"département\",\"circonscription\",\"Votants\",parti]]\n",
    "        \n",
    "    else:\n",
    "        for k in range(1,23):\n",
    "            val = (ligne[str(k) + \" Etiquette liste\"].values[0] == parti)\n",
    "            if val :            \n",
    "                return ligne[[\"département\",\"Votants\",\"circonscription\",\"Taux de participation (%)\",str(k) + \" Accès second tour\",str(k) + \" voix\"]]\n",
    "    \n",
    "    return \"Pas de représentant du parti dans cette circonscription\"\n"
   ]
  },
  {
   "cell_type": "code",
   "execution_count": 5,
   "id": "f4e7ab7c",
   "metadata": {},
   "outputs": [],
   "source": [
    "#Renvoie la liste des nuances présentées candidates au tour t d'une année donnée year\n",
    "\n",
    "def cand(year,tour):\n",
    "        data = get_data(year,tour)\n",
    "        \n",
    "        if year <= 1981 :\n",
    "            L = data.columns[8:].tolist()\n",
    "\n",
    "        else :\n",
    "            L = []\n",
    "            labels = data.columns.values.tolist()\n",
    "            nb_candidats = int(labels[-1][:2])\n",
    "            for k in range(1,nb_candidats+1):\n",
    "                for i in range(data.index.size) :\n",
    "                    nuance = data[str(k) + \" nuance\"].iloc[i]\n",
    "                    if type(nuance) == str and nuance not in L : L.append(nuance)\n",
    "\n",
    "        return list(OrderedDict.fromkeys(L))"
   ]
  },
  {
   "cell_type": "code",
   "execution_count": 6,
   "id": "d0fe2b37",
   "metadata": {},
   "outputs": [],
   "source": [
    "#Renvoie la liste des nuances politiques représentées à chaque élection par année\n",
    "\n",
    "from collections import OrderedDict\n",
    "\n",
    "def liste_candidats_glob(year): return list(OrderedDict.fromkeys(cand(year,1)+cand(year,2)))\n",
    "\n",
    "#Déclare une variable globale pour diminuer le coût en temps d'un accès\n",
    "\n",
    "historique_candidats = [liste_candidats_glob(year) for year in year_echantillon]"
   ]
  },
  {
   "cell_type": "code",
   "execution_count": 7,
   "id": "077c0420",
   "metadata": {},
   "outputs": [],
   "source": [
    "def get_candidats(year): return historique_candidats[year_echantillon.index(year)]"
   ]
  },
  {
   "cell_type": "code",
   "execution_count": 213,
   "id": "eae4a60f",
   "metadata": {},
   "outputs": [],
   "source": [
    "#Renvoie la liste de toutes les nuances qui se sont déja présentées aux élections\n",
    "\n",
    "def tous_candidats():\n",
    "    L = []\n",
    "    for year in year_echantillon : \n",
    "        L += get_candidats(year)\n",
    "    return list(OrderedDict.fromkeys(L))\n",
    "\n",
    "liste_candidats = tous_candidats()\n",
    "candidats_tries = ['EXG','CEG','GAU','EXG','CEN','EXG','CEG','DRT','CED','CEG','CEN','DRT','CEN','EXD','EXD','GAU','EXG','DRT','DRT','CED','CEN','GAU','EXD','DRT','DRT','CEN','CEN','DRT','DRT','CED','DRT','DRT','DRT','DRT','EXG','EXG','GAU','EXG','GAU','CEN','CEN','DRT','CED','DRT','DRT','DRT','EXG','GAU','DRT','CED','DRT','DRT','DRT','EXD','EXG','GAU','GAU','EXG','GAU','EXG','CEN','CEN','GAU','EXD','GAU','GAU','DRT','DRT','GAU','EXG','GAU','GAU','DRT','EXG','CEG','DRT','CEN','CEN','GAU','CED','CEN','CEN','DRT']\n"
   ]
  },
  {
   "cell_type": "code",
   "execution_count": 214,
   "id": "b97f970f",
   "metadata": {},
   "outputs": [
    {
     "name": "stdout",
     "output_type": "stream",
     "text": [
      "1958 initialisé\n",
      "1962 initialisé\n",
      "1967 initialisé\n",
      "1968 initialisé\n",
      "1973 initialisé\n",
      "1978 initialisé\n",
      "1981 initialisé\n",
      "1988 initialisé\n",
      "1993 initialisé\n",
      "1997 initialisé\n",
      "2002 initialisé\n",
      "2007 initialisé\n",
      "2012 initialisé\n"
     ]
    }
   ],
   "source": [
    "#Objectif : avoir un seul type de données (pré/post - 1981) pour les exploiter plus facilement\n",
    "\n",
    "def merge_datatype(year):\n",
    "    data1,data2 = get_data(year,1),get_data(year,2)\n",
    "    candidats = get_candidats(year)\n",
    "    \n",
    "    #Création de colonnes par nuance, puis remplissage avec le nombre de voix\n",
    "    def merge(data):   \n",
    "        ref = np.zeros((data.index.size,len(candidats)))\n",
    "        df = pd.DataFrame(columns = candidats)\n",
    "        max_cands = int(data.columns[-1][:2])\n",
    "        \n",
    "        for i in range(data.index.size):\n",
    "            k = 1\n",
    "            ligne = data.iloc[i]\n",
    "            while  (k <= max_cands) and type(ligne.loc[str(k) + \" nuance\"]) == str :\n",
    "                nuance = ligne.loc[str(k) + \" nuance\"]\n",
    "                indice = candidats.index(nuance)\n",
    "                ref[i,indice] += int(ligne.loc[str(k) + \" voix\"])\n",
    "                k += 1\n",
    "        \n",
    "        for x in candidats :\n",
    "            df[x] = ref[:,candidats.index(x)].astype(int)\n",
    "        return pd.concat([data[[\"Code département\",\"département\",\"circonscription\",\"Inscrits\",\"Votants\",\"Exprimés\",\"Blancs et nuls\",\"Taux de participation (%)\"]],df],axis = 1)       \n",
    "        \n",
    "    return merge(data1),merge(data2)              \n",
    "\n",
    "\n",
    "#Création d'un \"nouveau\" jeu de données cette fois plus uniforme\n",
    "\n",
    "def new_dataset():\n",
    "    L1,L2 = [],[]\n",
    "    \n",
    "    #Uniformisation de la liste des nuances entre tour 1 et 2 (ce qui n'est pas toujours le cas selon les années ex:1968)\n",
    "    def unite_candidats(data,year):\n",
    "        for x in get_candidats(year):\n",
    "            if x not in data.columns : data[x] = 0\n",
    "        return data\n",
    "    \n",
    "    for year in year_echantillon :\n",
    "        if year <= 1981 :\n",
    "            L1.append(unite_candidats(get_data(year,1),year))\n",
    "            L2.append(unite_candidats(get_data(year,2),year))\n",
    "        else :\n",
    "            new1,new2 = merge_datatype(year)\n",
    "            L1.append(unite_candidats(new1,year))\n",
    "            L2.append(unite_candidats(new2,year))\n",
    "        print(str(year) + \" initialisé\")\n",
    "    return [L1,L2]\n",
    "\n",
    "new_data = new_dataset()"
   ]
  },
  {
   "cell_type": "code",
   "execution_count": 215,
   "id": "a7a0c6be",
   "metadata": {},
   "outputs": [],
   "source": [
    "def new_getdata(year,tour):\n",
    "    if year not in year_echantillon : return \"Pas d'élection sur cette année\"\n",
    "    else : return new_data[tour-1][year_echantillon.index(year)]"
   ]
  },
  {
   "cell_type": "code",
   "execution_count": 216,
   "id": "f90e3a84",
   "metadata": {},
   "outputs": [],
   "source": [
    "liste_nuances = [\"EXG\",\"GAU\",\"CEG\",\"CEN\",\"CED\",\"DRT\",\"EXD\"] \n",
    "\n",
    "def merge_nuances():\n",
    "    data_merged = [[],[]]\n",
    "    \n",
    "    def merge(data):\n",
    "        df = data.copy()\n",
    "        L = list(data.columns)[8:]\n",
    "        for x in L:\n",
    "            pos = candidats_tries[liste_candidats.index(x)]\n",
    "            df = df.rename(columns = {x : pos})\n",
    "        for pos_spec in liste_nuances :\n",
    "            if pos_spec not in df.columns :\n",
    "                df[pos_spec] = 0\n",
    "        df = df.groupby(df.columns, axis = 1).sum()\n",
    "        df = df[[\"département\",\"Code département\",\"circonscription\",\"Inscrits\",\"Votants\",\"Exprimés\",\"Blancs et nuls\",\"Taux de participation (%)\",\"EXG\",\"GAU\",\"CEG\",\"CEN\",\"CED\",\"DRT\",\"EXD\"]]\n",
    "        return df\n",
    "    \n",
    "    for k in range(26):\n",
    "        data_merged[k//13].append(merge(new_data[k//13][k%13]))\n",
    "    \n",
    "    return data_merged\n",
    "                    \n",
    "data_uni = merge_nuances()"
   ]
  },
  {
   "cell_type": "code",
   "execution_count": 217,
   "id": "bf3a5b9d",
   "metadata": {},
   "outputs": [],
   "source": [
    "def getdata_unif(year,tour):\n",
    "    if year not in year_echantillon : return \"Pas d'élection sur cette année\"\n",
    "    else : return data_uni[tour-1][year_echantillon.index(year)]"
   ]
  },
  {
   "cell_type": "code",
   "execution_count": 218,
   "id": "e14a8d21",
   "metadata": {
    "scrolled": true
   },
   "outputs": [],
   "source": [
    "#Renvoie le tableau des vainqueurs au scrutin majoritaire pour un tour et une année donnée\n",
    "\n",
    "def tab_maxvotes(year,tour):\n",
    "    data = new_getdata(year,tour)\n",
    "    \n",
    "    winners = data.drop(['Inscrits','département','Votants','Exprimés','Blancs et nuls'], axis = 1).idxmax(axis = 1, numeric_only = True)\n",
    "    votes = data.drop(['Inscrits','département','Votants','Exprimés','Blancs et nuls'], axis = 1).max(axis = 1, numeric_only = True)\n",
    "        \n",
    "    res = pd.concat([data['département'],data['circonscription'],winners.rename('Nuance/Parti vainqueur'),votes.rename('Nombre de voix'),(100 * votes/data['Exprimés']).rename('Part de voix (%)'),(100 * data['Votants']/data['Inscrits']).rename(\"Taux de participation (%)\")], axis = 1)\n",
    "    \n",
    "    if year == 1968 and tour == 2 : res[\"Nuance/Parti vainqueur\"] = res[\"Nuance/Parti vainqueur\"].replace(\"UDR-RI\",\"RIUDR\")\n",
    "    \n",
    "    return res"
   ]
  },
  {
   "cell_type": "code",
   "execution_count": 219,
   "id": "1a07bb73",
   "metadata": {},
   "outputs": [],
   "source": [
    "#Renvoie les indices de circonscriptions où le candidat a été élu au premier tour\n",
    "def get_elus1er():\n",
    "    \n",
    "    res = []\n",
    "    for year in year_echantillon :\n",
    "        tab = tab_maxvotes(year,1)\n",
    "        res.append([i for i in range(tab.index.size) if tab[\"Part de voix (%)\"].iloc[i] >= 50])\n",
    "            \n",
    "    return res\n",
    "            \n",
    "elus1er_indices = get_elus1er()"
   ]
  },
  {
   "cell_type": "code",
   "execution_count": 221,
   "id": "3b56de58",
   "metadata": {},
   "outputs": [
    {
     "data": {
      "text/plain": [
       "EXG     86\n",
       "GAU    112\n",
       "CEG      0\n",
       "CEN      0\n",
       "CED      0\n",
       "DRT    283\n",
       "EXD      0\n",
       "dtype: int64"
      ]
     },
     "execution_count": 221,
     "metadata": {},
     "output_type": "execute_result"
    }
   ],
   "source": [
    "#Renvoie le résultat d'un scrutin majoritaire (1 tour / 2 tours avec sélection des deux meilleurs + élus premiers tours)\n",
    "def res_majoritaire(year,tour):\n",
    "    data = getdata_unif(year,tour)\n",
    "    tab = tab_maxvotes(year,1)\n",
    "    candidats = get_candidats(year)\n",
    "    res = pd.Series(0,index = liste_nuances)\n",
    "    \n",
    "    if tour == 1 : temp = tab[\"Nuance/Parti vainqueur\"].value_counts().reindex(candidats,fill_value = 0)                                                                       \n",
    "                                                                               \n",
    "    else :   \n",
    "        \n",
    "        #Ajoute les élus au 1er tour dans le cas d'un scrutin à deux tours\n",
    "        def add_winners_1ertour(tab2):\n",
    "            loc = tab2[\"Nuance/Parti vainqueur\"].value_counts()\n",
    "            indices = elus1er_indices[year_echantillon.index(year)]\n",
    "            for i in indices :\n",
    "                winner = tab[\"Nuance/Parti vainqueur\"].iloc[i]\n",
    "                if winner not in loc.index : \n",
    "                    win_series = pd.Series({winner : 1})\n",
    "                    loc = pd.concat([loc,win_series], names = [tab2.index.tolist(),winner])\n",
    "                else : loc[winner] += 1\n",
    "            return loc\n",
    "        \n",
    "        temp = add_winners_1ertour(tab_maxvotes(year,2)).reindex(candidats,fill_value = 0)\n",
    "    \n",
    "    #Rajoute le score de chaque parti au positionnement politique lui correspondant\n",
    "    for k in temp.index :\n",
    "        pos = candidats_tries[liste_candidats.index(k)]\n",
    "        res[pos] += temp[k]\n",
    "        \n",
    "    return res\n",
    "\n",
    "res_majoritaire(1978,2)"
   ]
  },
  {
   "cell_type": "code",
   "execution_count": 222,
   "id": "85ec1f95",
   "metadata": {},
   "outputs": [],
   "source": [
    "def res_proportionnelle_dep(year,taux,seuil):\n",
    "    data = getdata_unif(year,1).copy()\n",
    "    sieges_dep = pd.DataFrame(data[\"Code département\"].value_counts()).sort_index(ascending = True)\n",
    "    data = data.groupby([\"Code département\"]).sum(numeric_only = True).drop([\"circonscription\",\"Taux de participation (%)\"],axis = 1)\n",
    "    winners = data.drop(['Inscrits','Votants','Exprimés','Blancs et nuls'], axis = 1).idxmax(axis = 1, numeric_only = True)\n",
    "    \n",
    "    #Selectionne les nuances ayant obtenu plus de seuil% de voix au premier tour\n",
    "    def selec_seuillards(x):\n",
    "        for i in range(data.index.size) :\n",
    "            min_votes = x * data[\"Exprimés\"].iloc[i]\n",
    "            for nuance in data.columns.tolist()[4:] :\n",
    "                if data[nuance].iloc[i] < min_votes : \n",
    "                    data[nuance].iloc[i] = 0\n",
    "    selec_seuillards(seuil)\n",
    "    \n",
    "    sieges_prop = np.floor(sieges_dep*taux)\n",
    "    res = pd.Series({'Nuance/Parti vainqueur' : np.zeros(1)}).reindex(liste_nuances,fill_value = 0)\n",
    "    \n",
    "    #Répartition des sièges associés à la proportionnelle entre les candidats sélectionnés aupravant\n",
    "    def split_sieges_dep(code_dep):\n",
    "        i = sieges_prop.index.values.tolist().index(code_dep)\n",
    "        nb_sieges = sieges_prop.iloc[i].values[0]\n",
    "        sieges_prop.iloc[i] = 0\n",
    "        line = data.iloc[i]\n",
    "        for x in liste_nuances :\n",
    "            #Discuter de l'arrondi à l'entier le plus proche\n",
    "            sieges_attribues = round(nb_sieges*(line[x]/line[\"Exprimés\"]))\n",
    "            res.loc[x] += sieges_attribues\n",
    "            sieges_prop.iloc[i] += sieges_attribues\n",
    "    \n",
    "    #Ajoute les sièges des vainqueurs majoritaires\n",
    "    #Discuter de la méthode de répartition des sièges restants\n",
    "    def add_winners(code_dep):\n",
    "        i = sieges_prop.index.values.tolist().index(code_dep)\n",
    "        nb_sieges = sieges_dep.iloc[i].values[0] - sieges_prop.iloc[i].values[0]\n",
    "        winner = winners.iloc[i]\n",
    "        res.loc[winner] += nb_sieges\n",
    "    \n",
    "    for code_dep in sieges_prop.index :          \n",
    "        split_sieges_dep(code_dep)\n",
    "        add_winners(code_dep)\n",
    "    \n",
    "    return res"
   ]
  },
  {
   "cell_type": "code",
   "execution_count": 223,
   "id": "3706b071",
   "metadata": {},
   "outputs": [],
   "source": [
    "def res_proportionnelle_nation(year,taux,seuil):\n",
    "    data = getdata_unif(year,1).copy()\n",
    "    sieges_tot = len(data.index.tolist())\n",
    "    data = data.sum(numeric_only = True).drop([\"circonscription\",\"Taux de participation (%)\"])\n",
    "    winner = data.drop(['Inscrits','Votants','Exprimés','Blancs et nuls']).idxmax()\n",
    "    \n",
    "    #Selectionne les nuances ayant obtenu plus de seuil% de voix au premier tour\n",
    "    def selec_seuillards(x):\n",
    "        min_votes = x * data.loc[\"Exprimés\"]\n",
    "        for nuance in data.index.tolist()[4:] :\n",
    "            if data.loc[nuance] < min_votes : \n",
    "                data.loc[nuance] = 0\n",
    "    selec_seuillards(seuil)\n",
    "    \n",
    "    sieges_prop = np.floor(sieges_tot*taux)\n",
    "    res = pd.Series({'Nuance/Parti vainqueur' : np.zeros(1)}).reindex(liste_nuances,fill_value = 0)\n",
    "    \n",
    "    #Répartition des sièges associés à la proportionnelle entre les candidats sélectionnés aupravant\n",
    "    def split_sieges():\n",
    "        for x in liste_nuances :\n",
    "            sieges_attribues = np.floor(sieges_prop*(data.loc[x]/data.loc[\"Exprimés\"]))\n",
    "            res.loc[x] += sieges_attribues\n",
    "    \n",
    "    #Ajoute les sièges du vainqueur majoritaire\n",
    "    #Refaire l'attribution à l'échelle départementale\n",
    "    def add_winners():\n",
    "        res.loc[winner] += sieges_tot - res.sum()\n",
    "             \n",
    "    split_sieges()\n",
    "    add_winners()\n",
    "    \n",
    "    return res"
   ]
  },
  {
   "cell_type": "code",
   "execution_count": 225,
   "id": "3b461c3b",
   "metadata": {},
   "outputs": [],
   "source": [
    "#Diverses fonctions de comparaison de modes de scrutin, utilisables par repartition_barh à la cellule suivante\n",
    "\n",
    "#Comparaison manuelle\n",
    "def compare(year,taux_prop,seuil_prop):\n",
    "\n",
    "    candidats = liste_candidats\n",
    "    res_t1 = res_majoritaire(year,1)\n",
    "    res_t2 = res_majoritaire(year,2)\n",
    "    res_prop_dep = res_proportionnelle_dep(year,taux_prop,seuil_prop)\n",
    "    res_prop_nation = res_proportionnelle_nation(year,taux_prop,seuil_prop)\n",
    "    \n",
    "    results = {\n",
    "        str(year) + ' : Scrutin majoritaire à un tour': res_t1.values.tolist(),\n",
    "        str(year) + ' : Scrutin majoritaire à deux tours' : res_t2.values.tolist(),\n",
    "        str(year) + ' : Scrutin proportionnel départemental à seuil ' + str(100*seuil_prop) + '%' + ' et à taux ' + str(100*taux_prop) + '%' : res_prop_dep.values.tolist(),\n",
    "        str(year) + ' : Scrutin proportionnel national à seuil ' + str(100*seuil_prop) + '%' + ' et à taux ' + str(100*taux_prop) + '%' : res_prop_nation.values.tolist()\n",
    "    }\n",
    "    \n",
    "    return results,candidats\n",
    "\n",
    "#Étudie l'influence du taux de proportionnelle pour une année et un seuil donnés, à l'échelle départementale\n",
    "def prop_dep_selon_taux(year,seuil_prop):    \n",
    "    candidats = liste_nuances\n",
    "    prop_taux = [(str(year) + ' : Scrutin proportionnel départemental à seuil ' + str(100*seuil_prop) + '%' + ' et à taux ' + str(100*taux_prop) + '%' , res_proportionnelle_dep(year,taux_prop,seuil_prop) ) for taux_prop in [0,0.1,0.2,0.3,0.4,0.5,0.6,0.7,0.8,0.9,1]]\n",
    "    results = dict(prop_taux)\n",
    "    return results,candidats\n",
    "\n",
    "#Étudie l'influence du taux de proportionnelle pour une année et un seuil donnés, à l'échelle nationale\n",
    "def prop_nation_selon_taux(year,seuil_prop):    \n",
    "    candidats = liste_nuances\n",
    "    prop_taux = [(str(year) + ' : Scrutin proportionnel national à seuil ' + str(100*seuil_prop) + '%' + ' et à taux ' + str(100*taux_prop) + '%' , res_proportionnelle_nation(year,taux_prop,seuil_prop) ) for taux_prop in [0,0.1,0.2,0.3,0.4,0.5,0.6,0.7,0.8,0.9,1]]\n",
    "    results = dict(prop_taux)\n",
    "    return results,candidats\n",
    "\n",
    "#Affiche l'historique de composition avec un scrutin majoritaire à deux tours\n",
    "\n",
    "#À corriger (unite )\n",
    "def maj2tours_selon_year():\n",
    "    candidats = liste_nuances\n",
    "    L = [(str(year) + ' : Scrutin majoritaire à deux tours', res_majoritaire(year,2)) for year in year_echantillon]\n",
    "    results = dict(L)\n",
    "    return results,candidats"
   ]
  },
  {
   "cell_type": "code",
   "execution_count": 226,
   "id": "ec091d07",
   "metadata": {},
   "outputs": [
    {
     "data": {
      "text/plain": [
       "(<Figure size 1584x288 with 1 Axes>, <AxesSubplot:>)"
      ]
     },
     "execution_count": 226,
     "metadata": {},
     "output_type": "execute_result"
    },
    {
     "data": {
      "image/png": "[encoded data removed]",
      "text/plain": [
       "<Figure size 1584x288 with 1 Axes>"
      ]
     },
     "metadata": {
      "needs_background": "light"
     },
     "output_type": "display_data"
    }
   ],
   "source": [
    "#Affiche la répartition de l'Assemblée Nationale par nuance politique pour les différents modèles sélectionnés\n",
    "# N.B : de légères variations dans le nombre total de sièges peuvent apparaître du fait d'erreurs de données\n",
    "def repartition_barh(results, category_names):\n",
    "    \n",
    "    labels = list(results.keys())\n",
    "    data = np.array(list(results.values()))\n",
    "    data_cum = data.cumsum(axis=1)\n",
    "    category_colors = plt.colormaps['seismic_r'](\n",
    "        np.linspace(0.15, 0.85, data.shape[1]))\n",
    "\n",
    "    fig, ax = plt.subplots(figsize=(22, 4))\n",
    "    ax.invert_yaxis()\n",
    "    ax.xaxis.set_visible(False)\n",
    "    ax.set_xlim(0, np.sum(data, axis=1).max())\n",
    "    \n",
    "    #SET COLORMAP / UNIFIER NUANCES\n",
    "    for i, (colname, color) in enumerate(zip(category_names, category_colors)):\n",
    "        widths = data[:, i]\n",
    "        starts = data_cum[:, i] - widths\n",
    "        rects = ax.barh(labels, widths, left=starts, height=0.5,\n",
    "                        label=colname, color=color)\n",
    "\n",
    "        r, g, b, _ = color\n",
    "        text_color = 'white' if r * g * b < 0.5 else 'darkgrey'\n",
    "        ax.bar_label(rects, label_type='center', color=text_color)\n",
    "    ax.legend(ncol=len(category_names), bbox_to_anchor=(0, 1),\n",
    "              loc='lower left', fontsize='small')\n",
    "\n",
    "    return fig, ax\n",
    "\n",
    "results,candidats = maj2tours_selon_year()\n",
    "repartition_barh(results,candidats)"
   ]
  },
  {
   "cell_type": "code",
   "execution_count": 20,
   "id": "b57dbd7f",
   "metadata": {},
   "outputs": [
    {
     "data": {
      "text/plain": [
       "0.4863644511388909"
      ]
     },
     "execution_count": 20,
     "metadata": {},
     "output_type": "execute_result"
    }
   ],
   "source": [
    "def mean_var(res_set):\n",
    "    res_matrix = np.array(list(res_set.values()))\n",
    "    nb_candidats = res_matrix.shape[1]\n",
    "    L_mean,var = [],0\n",
    "    for i in range(nb_candidats):\n",
    "        col = res_matrix[:,i]\n",
    "        L_mean.append(col.mean())\n",
    "        var += col.var()\n",
    "    res = L_mean,np.sqrt(var)/sum(res_matrix[0])\n",
    "    return res[1]\n",
    "\n",
    "mean_var(results)"
   ]
  },
  {
   "cell_type": "code",
   "execution_count": 21,
   "id": "85e9aa60",
   "metadata": {},
   "outputs": [
    {
     "data": {
      "text/plain": [
       "Text(0.5, 1.0, \"Évolution de l'influence du taux de proportionnelle selon le seuil\")"
      ]
     },
     "execution_count": 21,
     "metadata": {},
     "output_type": "execute_result"
    },
    {
     "data": {
      "image/png": "[encoded data removed]",
      "text/plain": [
       "<Figure size 432x288 with 1 Axes>"
      ]
     },
     "metadata": {
      "needs_background": "light"
     },
     "output_type": "display_data"
    }
   ],
   "source": [
    "#CELLULE TEST\n",
    "X_sample = [0,0.01,0.02,0.03,0.04,0.05,0.06,0.07,0.08,0.09,0.1,.12,.15,.18,.21,.25]\n",
    "result_list = [mean_var(prop_nation_selon_taux(1973,seuil)[0]) for seuil in X_sample]\n",
    "plt.plot(X_sample,result_list,color = 'g')\n",
    "plt.title(\"Évolution de l'influence du taux de proportionnelle selon le seuil\")\n",
    "\n",
    "#Question du graphique inverse ?"
   ]
  },
  {
   "cell_type": "code",
   "execution_count": 212,
   "id": "4f54310a",
   "metadata": {},
   "outputs": [
    {
     "data": {
      "text/plain": [
       "33"
      ]
     },
     "execution_count": 212,
     "metadata": {},
     "output_type": "execute_result"
    }
   ],
   "source": [
    "liste_candidats.index(\"DVD\")\n",
    "#candidats_tries[51]"
   ]
  }
 ],
 "metadata": {
  "kernelspec": {
   "display_name": "Python 3 (ipykernel)",
   "language": "python",
   "name": "python3"
  },
  "language_info": {
   "codemirror_mode": {
    "name": "ipython",
    "version": 3
   },
   "file_extension": ".py",
   "mimetype": "text/x-python",
   "name": "python",
   "nbconvert_exporter": "python",
   "pygments_lexer": "ipython3",
   "version": "3.10.4"
  }
 },
 "nbformat": 4,
 "nbformat_minor": 5
}
